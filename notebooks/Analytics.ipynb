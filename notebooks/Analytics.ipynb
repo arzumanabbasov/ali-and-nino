{
 "cells": [
  {
   "cell_type": "code",
   "execution_count": 37,
   "id": "481b3f87",
   "metadata": {},
   "outputs": [],
   "source": [
    "import pandas as pd\n",
    "import numpy as np\n",
    "import matplotlib.pyplot as plt\n",
    "import seaborn as sns\n",
    "\n",
    "import warnings\n",
    "\n",
    "warnings.filterwarnings('ignore')"
   ]
  },
  {
   "cell_type": "code",
   "execution_count": 38,
   "id": "9485a3ef",
   "metadata": {},
   "outputs": [],
   "source": [
    "BASE_DIR = 'C:/Users/Admin/Desktop/Projects/Book Price Prediction'"
   ]
  },
  {
   "cell_type": "code",
   "execution_count": 39,
   "id": "4e161ae5",
   "metadata": {},
   "outputs": [],
   "source": [
    "df = pd.read_csv(BASE_DIR + '/data/raw/books.csv')"
   ]
  },
  {
   "cell_type": "code",
   "execution_count": 40,
   "id": "8e89cf81",
   "metadata": {},
   "outputs": [
    {
     "data": {
      "text/html": [
       "<div>\n",
       "<style scoped>\n",
       "    .dataframe tbody tr th:only-of-type {\n",
       "        vertical-align: middle;\n",
       "    }\n",
       "\n",
       "    .dataframe tbody tr th {\n",
       "        vertical-align: top;\n",
       "    }\n",
       "\n",
       "    .dataframe thead th {\n",
       "        text-align: right;\n",
       "    }\n",
       "</style>\n",
       "<table border=\"1\" class=\"dataframe\">\n",
       "  <thead>\n",
       "    <tr style=\"text-align: right;\">\n",
       "      <th></th>\n",
       "      <th>book_title</th>\n",
       "      <th>book_description</th>\n",
       "      <th>book_rating</th>\n",
       "      <th>book_price</th>\n",
       "      <th>book_authors</th>\n",
       "      <th>book_features</th>\n",
       "      <th>book_cover_url</th>\n",
       "    </tr>\n",
       "  </thead>\n",
       "  <tbody>\n",
       "    <tr>\n",
       "      <th>0</th>\n",
       "      <td>Seçmə şeirlər (Molla Vəli Vidadi)</td>\n",
       "      <td>Molla Vəli Vidadinin 18-ci əsr Azərbaycan poez...</td>\n",
       "      <td>5.0</td>\n",
       "      <td>4.79 AZN</td>\n",
       "      <td>Molla Vəli Vidadi</td>\n",
       "      <td>Bərk</td>\n",
       "      <td>https://static.insales-cdn.com/images/products...</td>\n",
       "    </tr>\n",
       "    <tr>\n",
       "      <th>1</th>\n",
       "      <td>Seçmə şeirlər (Süleyman Rüstəm)</td>\n",
       "      <td>Azərbaycanın Xalq şairi, həm əruz, həm heca və...</td>\n",
       "      <td>5.0</td>\n",
       "      <td>9.59 AZN</td>\n",
       "      <td>Süleyman Rüstəm</td>\n",
       "      <td>Bərk</td>\n",
       "      <td>https://static.insales-cdn.com/images/products...</td>\n",
       "    </tr>\n",
       "    <tr>\n",
       "      <th>2</th>\n",
       "      <td>Sevgili</td>\n",
       "      <td>Toni Morrison</td>\n",
       "      <td>NaN</td>\n",
       "      <td>12.79 AZN</td>\n",
       "      <td>Toni Morrison</td>\n",
       "      <td>Yumşaq</td>\n",
       "      <td>https://static.insales-cdn.com/images/products...</td>\n",
       "    </tr>\n",
       "    <tr>\n",
       "      <th>3</th>\n",
       "      <td>İncillə yaşanan ömür</td>\n",
       "      <td>İsrailin hərbi və dövlət xadimi Moşe Dayan “İn...</td>\n",
       "      <td>NaN</td>\n",
       "      <td>9.59 AZN</td>\n",
       "      <td>Moşe Dayan</td>\n",
       "      <td>Yumşaq</td>\n",
       "      <td>https://static.insales-cdn.com/images/products...</td>\n",
       "    </tr>\n",
       "    <tr>\n",
       "      <th>4</th>\n",
       "      <td>Tehranda kitab dükanı</td>\n",
       "      <td>Wall Street Journal tərəfindən</td>\n",
       "      <td>5.0</td>\n",
       "      <td>11.19 AZN</td>\n",
       "      <td>Marjan Kamali</td>\n",
       "      <td>Yumşaq</td>\n",
       "      <td>https://static.insales-cdn.com/images/products...</td>\n",
       "    </tr>\n",
       "  </tbody>\n",
       "</table>\n",
       "</div>"
      ],
      "text/plain": [
       "                          book_title  \\\n",
       "0  Seçmə şeirlər (Molla Vəli Vidadi)   \n",
       "1    Seçmə şeirlər (Süleyman Rüstəm)   \n",
       "2                            Sevgili   \n",
       "3               İncillə yaşanan ömür   \n",
       "4              Tehranda kitab dükanı   \n",
       "\n",
       "                                    book_description  book_rating book_price  \\\n",
       "0  Molla Vəli Vidadinin 18-ci əsr Azərbaycan poez...          5.0   4.79 AZN   \n",
       "1  Azərbaycanın Xalq şairi, həm əruz, həm heca və...          5.0   9.59 AZN   \n",
       "2                                     Toni Morrison           NaN  12.79 AZN   \n",
       "3  İsrailin hərbi və dövlət xadimi Moşe Dayan “İn...          NaN   9.59 AZN   \n",
       "4                    Wall Street Journal tərəfindən           5.0  11.19 AZN   \n",
       "\n",
       "        book_authors book_features  \\\n",
       "0  Molla Vəli Vidadi          Bərk   \n",
       "1    Süleyman Rüstəm          Bərk   \n",
       "2      Toni Morrison        Yumşaq   \n",
       "3         Moşe Dayan        Yumşaq   \n",
       "4      Marjan Kamali        Yumşaq   \n",
       "\n",
       "                                      book_cover_url  \n",
       "0  https://static.insales-cdn.com/images/products...  \n",
       "1  https://static.insales-cdn.com/images/products...  \n",
       "2  https://static.insales-cdn.com/images/products...  \n",
       "3  https://static.insales-cdn.com/images/products...  \n",
       "4  https://static.insales-cdn.com/images/products...  "
      ]
     },
     "execution_count": 40,
     "metadata": {},
     "output_type": "execute_result"
    }
   ],
   "source": [
    "df.head()"
   ]
  },
  {
   "cell_type": "code",
   "execution_count": 41,
   "id": "2d496e8c",
   "metadata": {},
   "outputs": [
    {
     "data": {
      "text/plain": [
       "(3738, 7)"
      ]
     },
     "execution_count": 41,
     "metadata": {},
     "output_type": "execute_result"
    }
   ],
   "source": [
    "df.shape"
   ]
  },
  {
   "cell_type": "code",
   "execution_count": 42,
   "id": "25470766",
   "metadata": {},
   "outputs": [
    {
     "data": {
      "text/plain": [
       "(3738, 7)"
      ]
     },
     "execution_count": 42,
     "metadata": {},
     "output_type": "execute_result"
    }
   ],
   "source": [
    "df.drop_duplicates().shape"
   ]
  },
  {
   "cell_type": "code",
   "execution_count": 43,
   "id": "adc7eff5",
   "metadata": {},
   "outputs": [
    {
     "data": {
      "text/html": [
       "<div>\n",
       "<style scoped>\n",
       "    .dataframe tbody tr th:only-of-type {\n",
       "        vertical-align: middle;\n",
       "    }\n",
       "\n",
       "    .dataframe tbody tr th {\n",
       "        vertical-align: top;\n",
       "    }\n",
       "\n",
       "    .dataframe thead th {\n",
       "        text-align: right;\n",
       "    }\n",
       "</style>\n",
       "<table border=\"1\" class=\"dataframe\">\n",
       "  <thead>\n",
       "    <tr style=\"text-align: right;\">\n",
       "      <th></th>\n",
       "      <th>book_title</th>\n",
       "      <th>book_description</th>\n",
       "      <th>book_rating</th>\n",
       "      <th>book_price</th>\n",
       "      <th>book_authors</th>\n",
       "      <th>book_features</th>\n",
       "      <th>book_cover_url</th>\n",
       "    </tr>\n",
       "  </thead>\n",
       "  <tbody>\n",
       "    <tr>\n",
       "      <th>count</th>\n",
       "      <td>3738</td>\n",
       "      <td>3574</td>\n",
       "      <td>1198.000000</td>\n",
       "      <td>3738</td>\n",
       "      <td>2874</td>\n",
       "      <td>3694</td>\n",
       "      <td>3738</td>\n",
       "    </tr>\n",
       "    <tr>\n",
       "      <th>unique</th>\n",
       "      <td>3585</td>\n",
       "      <td>3429</td>\n",
       "      <td>NaN</td>\n",
       "      <td>382</td>\n",
       "      <td>1556</td>\n",
       "      <td>221</td>\n",
       "      <td>3738</td>\n",
       "    </tr>\n",
       "    <tr>\n",
       "      <th>top</th>\n",
       "      <td>Hekayələr</td>\n",
       "      <td>Birnəfəsə oxuyacağınız bu, həyəcanla bütünləşm...</td>\n",
       "      <td>NaN</td>\n",
       "      <td>7.99 AZN</td>\n",
       "      <td>Çingiz Abdullayev</td>\n",
       "      <td>Yumşaq</td>\n",
       "      <td>https://static.insales-cdn.com/images/products...</td>\n",
       "    </tr>\n",
       "    <tr>\n",
       "      <th>freq</th>\n",
       "      <td>8</td>\n",
       "      <td>6</td>\n",
       "      <td>NaN</td>\n",
       "      <td>287</td>\n",
       "      <td>61</td>\n",
       "      <td>2954</td>\n",
       "      <td>1</td>\n",
       "    </tr>\n",
       "    <tr>\n",
       "      <th>mean</th>\n",
       "      <td>NaN</td>\n",
       "      <td>NaN</td>\n",
       "      <td>4.898164</td>\n",
       "      <td>NaN</td>\n",
       "      <td>NaN</td>\n",
       "      <td>NaN</td>\n",
       "      <td>NaN</td>\n",
       "    </tr>\n",
       "    <tr>\n",
       "      <th>std</th>\n",
       "      <td>NaN</td>\n",
       "      <td>NaN</td>\n",
       "      <td>0.469252</td>\n",
       "      <td>NaN</td>\n",
       "      <td>NaN</td>\n",
       "      <td>NaN</td>\n",
       "      <td>NaN</td>\n",
       "    </tr>\n",
       "    <tr>\n",
       "      <th>min</th>\n",
       "      <td>NaN</td>\n",
       "      <td>NaN</td>\n",
       "      <td>1.000000</td>\n",
       "      <td>NaN</td>\n",
       "      <td>NaN</td>\n",
       "      <td>NaN</td>\n",
       "      <td>NaN</td>\n",
       "    </tr>\n",
       "    <tr>\n",
       "      <th>25%</th>\n",
       "      <td>NaN</td>\n",
       "      <td>NaN</td>\n",
       "      <td>5.000000</td>\n",
       "      <td>NaN</td>\n",
       "      <td>NaN</td>\n",
       "      <td>NaN</td>\n",
       "      <td>NaN</td>\n",
       "    </tr>\n",
       "    <tr>\n",
       "      <th>50%</th>\n",
       "      <td>NaN</td>\n",
       "      <td>NaN</td>\n",
       "      <td>5.000000</td>\n",
       "      <td>NaN</td>\n",
       "      <td>NaN</td>\n",
       "      <td>NaN</td>\n",
       "      <td>NaN</td>\n",
       "    </tr>\n",
       "    <tr>\n",
       "      <th>75%</th>\n",
       "      <td>NaN</td>\n",
       "      <td>NaN</td>\n",
       "      <td>5.000000</td>\n",
       "      <td>NaN</td>\n",
       "      <td>NaN</td>\n",
       "      <td>NaN</td>\n",
       "      <td>NaN</td>\n",
       "    </tr>\n",
       "    <tr>\n",
       "      <th>max</th>\n",
       "      <td>NaN</td>\n",
       "      <td>NaN</td>\n",
       "      <td>5.000000</td>\n",
       "      <td>NaN</td>\n",
       "      <td>NaN</td>\n",
       "      <td>NaN</td>\n",
       "      <td>NaN</td>\n",
       "    </tr>\n",
       "  </tbody>\n",
       "</table>\n",
       "</div>"
      ],
      "text/plain": [
       "       book_title                                   book_description  \\\n",
       "count        3738                                               3574   \n",
       "unique       3585                                               3429   \n",
       "top     Hekayələr  Birnəfəsə oxuyacağınız bu, həyəcanla bütünləşm...   \n",
       "freq            8                                                  6   \n",
       "mean          NaN                                                NaN   \n",
       "std           NaN                                                NaN   \n",
       "min           NaN                                                NaN   \n",
       "25%           NaN                                                NaN   \n",
       "50%           NaN                                                NaN   \n",
       "75%           NaN                                                NaN   \n",
       "max           NaN                                                NaN   \n",
       "\n",
       "        book_rating book_price       book_authors book_features  \\\n",
       "count   1198.000000       3738               2874          3694   \n",
       "unique          NaN        382               1556           221   \n",
       "top             NaN   7.99 AZN  Çingiz Abdullayev        Yumşaq   \n",
       "freq            NaN        287                 61          2954   \n",
       "mean       4.898164        NaN                NaN           NaN   \n",
       "std        0.469252        NaN                NaN           NaN   \n",
       "min        1.000000        NaN                NaN           NaN   \n",
       "25%        5.000000        NaN                NaN           NaN   \n",
       "50%        5.000000        NaN                NaN           NaN   \n",
       "75%        5.000000        NaN                NaN           NaN   \n",
       "max        5.000000        NaN                NaN           NaN   \n",
       "\n",
       "                                           book_cover_url  \n",
       "count                                                3738  \n",
       "unique                                               3738  \n",
       "top     https://static.insales-cdn.com/images/products...  \n",
       "freq                                                    1  \n",
       "mean                                                  NaN  \n",
       "std                                                   NaN  \n",
       "min                                                   NaN  \n",
       "25%                                                   NaN  \n",
       "50%                                                   NaN  \n",
       "75%                                                   NaN  \n",
       "max                                                   NaN  "
      ]
     },
     "execution_count": 43,
     "metadata": {},
     "output_type": "execute_result"
    }
   ],
   "source": [
    "df.describe(include='all')"
   ]
  },
  {
   "cell_type": "code",
   "execution_count": 44,
   "id": "f9f989b5-a1f4-4214-be84-1b67bec5c2c3",
   "metadata": {},
   "outputs": [
    {
     "data": {
      "text/plain": [
       "book_title             0\n",
       "book_description     164\n",
       "book_rating         2540\n",
       "book_price             0\n",
       "book_authors         864\n",
       "book_features         44\n",
       "book_cover_url         0\n",
       "dtype: int64"
      ]
     },
     "execution_count": 44,
     "metadata": {},
     "output_type": "execute_result"
    }
   ],
   "source": [
    "df.isnull().sum()"
   ]
  },
  {
   "cell_type": "code",
   "execution_count": 45,
   "id": "569dc91f-cdb3-45a7-b6fc-2f5b7ec55054",
   "metadata": {},
   "outputs": [],
   "source": [
    "df_new = df.dropna()"
   ]
  },
  {
   "cell_type": "code",
   "execution_count": 46,
   "id": "cfd1d4f8-907d-4ece-a68b-96eb6b7c8a33",
   "metadata": {},
   "outputs": [],
   "source": [
    "df = df[[\n",
    "'book_rating',\n",
    "'book_authors',\n",
    "'book_features',\n",
    "'book_price'\n",
    "]]"
   ]
  },
  {
   "cell_type": "code",
   "execution_count": 47,
   "id": "7b70e05c-7a18-4c0e-8b09-2400c1cfa27d",
   "metadata": {},
   "outputs": [],
   "source": [
    "df = df.dropna()"
   ]
  },
  {
   "cell_type": "code",
   "execution_count": 48,
   "id": "5ecb2a91-54cc-4165-ba64-23d158d5d7f6",
   "metadata": {},
   "outputs": [
    {
     "data": {
      "text/plain": [
       "(1075, 4)"
      ]
     },
     "execution_count": 48,
     "metadata": {},
     "output_type": "execute_result"
    }
   ],
   "source": [
    "df.shape"
   ]
  },
  {
   "cell_type": "code",
   "execution_count": 49,
   "id": "6eb24b24-bd26-4725-bfb3-5f087cf1d76f",
   "metadata": {},
   "outputs": [],
   "source": [
    "corr = df.corr"
   ]
  },
  {
   "cell_type": "code",
   "execution_count": 50,
   "id": "8cfa8202-faa8-491d-a292-75ebe0c2d487",
   "metadata": {},
   "outputs": [
    {
     "data": {
      "text/plain": [
       "<bound method DataFrame.corr of       book_rating             book_authors book_features book_price\n",
       "0             5.0        Molla Vəli Vidadi          Bərk   4.79 AZN\n",
       "1             5.0          Süleyman Rüstəm          Bərk   9.59 AZN\n",
       "4             5.0            Marjan Kamali        Yumşaq  11.19 AZN\n",
       "7             5.0          Vaqif Səmədoğlu          Bərk   9.59 AZN\n",
       "8             5.0  Marieke Lukas Riyneveld        Yumşaq   9.59 AZN\n",
       "...           ...                      ...           ...        ...\n",
       "3570          5.0  Lev Nikolayeviç Tolstoy        Yumşaq   6.56 AZN\n",
       "3578          5.0               Hacı Şahin        Yumşaq   6.65 AZN\n",
       "3671          5.0              Ceyms Barri        Yumşaq   3.91 AZN\n",
       "3713          5.0             Layza Cenova        Yumşaq   6.38 AZN\n",
       "3730          3.0                Mark Tven        Yumşaq   4.80 AZN\n",
       "\n",
       "[1075 rows x 4 columns]>"
      ]
     },
     "execution_count": 50,
     "metadata": {},
     "output_type": "execute_result"
    }
   ],
   "source": [
    "corr"
   ]
  },
  {
   "cell_type": "code",
   "execution_count": 51,
   "id": "5837d7c8-4c85-4ced-9772-6e6ca714bb41",
   "metadata": {},
   "outputs": [],
   "source": [
    "df.book_price = df.book_price.str.replace(' AZN', '').astype(float)"
   ]
  },
  {
   "cell_type": "code",
   "execution_count": 52,
   "id": "bae03340-a79f-48a6-b472-d55ddcf5dc6c",
   "metadata": {},
   "outputs": [],
   "source": [
    "def displot(column: pd.Series, title: str):\n",
    "    sns.displot(column)\n",
    "    plt.title(title)\n",
    "    plt.savefig(BASE_DIR + f\"/visualization/{title}.png\")\n",
    "\n",
    "\n",
    "# Function to create a count plot\n",
    "def countplot(column: pd.Series, title: str):\n",
    "    count = column.value_counts()\n",
    "    chart = sns.countplot(x=count.index, data=column)\n",
    "    chart.set_title(title)\n",
    "    plt.savefig(BASE_DIR + f\"/visualization/{title}.png\")"
   ]
  },
  {
   "cell_type": "code",
   "execution_count": 53,
   "id": "21b54b05-1197-45ac-8e71-cbe660bbb080",
   "metadata": {},
   "outputs": [
    {
     "data": {
      "text/plain": [
       "book_rating      float64\n",
       "book_authors      object\n",
       "book_features     object\n",
       "book_price       float64\n",
       "dtype: object"
      ]
     },
     "execution_count": 53,
     "metadata": {},
     "output_type": "execute_result"
    }
   ],
   "source": [
    "df.dtypes"
   ]
  },
  {
   "cell_type": "code",
   "execution_count": 54,
   "id": "ba9f619e-e932-401a-a1dc-5112e9f7ddec",
   "metadata": {},
   "outputs": [
    {
     "data": {
      "image/png": "[encoded data removed]",
      "text/plain": [
       "<Figure size 500x500 with 1 Axes>"
      ]
     },
     "metadata": {},
     "output_type": "display_data"
    }
   ],
   "source": [
    "displot(df.book_rating, \"Book Rating Distribution\")"
   ]
  },
  {
   "cell_type": "code",
   "execution_count": 55,
   "id": "b5841e16-1428-476c-9780-73a99b868e7d",
   "metadata": {},
   "outputs": [
    {
     "data": {
      "text/plain": [
       "book_rating\n",
       "5.0    1009\n",
       "4.0      46\n",
       "3.0      10\n",
       "1.0       6\n",
       "2.0       4\n",
       "Name: count, dtype: int64"
      ]
     },
     "execution_count": 55,
     "metadata": {},
     "output_type": "execute_result"
    }
   ],
   "source": [
    "df.book_rating.value_counts()"
   ]
  },
  {
   "cell_type": "code",
   "execution_count": 56,
   "id": "f05bf36e-e862-4837-b4b2-427f341d604f",
   "metadata": {},
   "outputs": [
    {
     "data": {
      "image/png": "[encoded data removed]",
      "text/plain": [
       "<Figure size 500x500 with 1 Axes>"
      ]
     },
     "metadata": {},
     "output_type": "display_data"
    }
   ],
   "source": [
    "displot(df.book_price, 'Book Price')"
   ]
  },
  {
   "cell_type": "code",
   "execution_count": 63,
   "id": "95cc7e35-8670-4c10-9892-b7e3c6376019",
   "metadata": {},
   "outputs": [],
   "source": [
    "def encoding(dataframe):\n",
    "    le = LabelEncoder()\n",
    "    cat_col = ['book_authors', 'book_features']\n",
    "    for col in cat_col:\n",
    "        dataframe[col] = le.fit_transform(dataframe[col])\n",
    "    return dataframe"
   ]
  },
  {
   "cell_type": "code",
   "execution_count": 70,
   "id": "79a20cb3-9ffc-4606-96e9-6770ac723f4a",
   "metadata": {},
   "outputs": [],
   "source": [
    "def train(model, train_x, train_y, test_x, test_y, ):\n",
    "    model.fit(train_x, train_y)\n",
    "    pred = model.predict(test_x)\n",
    "    r2 = r2_score(test_y, pred)\n",
    "    cv_score = cross_val_score(model, train_x, train_y,\n",
    "                               scoring='neg_mean_squared_error', cv=5)\n",
    "    cv_score = np.abs(np.mean(cv_score))\n",
    "    print(f\"{model.__str__()} Model Report\")\n",
    "    print(\"CV Score:\", cv_score)\n",
    "    print(\"The R2 Score:\", r2)\n",
    "    print(\"\")"
   ]
  },
  {
   "cell_type": "code",
   "execution_count": 78,
   "id": "6a1cf090-48e0-4519-93ce-ff84f738773d",
   "metadata": {},
   "outputs": [],
   "source": [
    "def coef_plot(model_coef, model_name):\n",
    "    coef = pd.Series(model_coef, X.columns).sort_values(ascending=False)\n",
    "    plot_title = \"Model Coefficients - \" + model_name\n",
    "    coef.plot(kind='bar', title=plot_title)\n",
    "    plt.savefig(BASE_DIR + f\"/visualization/{model_name}.png\")"
   ]
  },
  {
   "cell_type": "code",
   "execution_count": 72,
   "id": "cc3dbcb9-676b-4fba-b7b3-9d48b4b25c45",
   "metadata": {},
   "outputs": [],
   "source": [
    "import pandas as pd\n",
    "import numpy as np\n",
    "import matplotlib.pyplot as plt\n",
    "from sklearn.preprocessing import LabelEncoder\n",
    "from sklearn.model_selection import train_test_split, cross_val_score, RandomizedSearchCV\n",
    "from sklearn.metrics import mean_squared_error, r2_score\n",
    "from sklearn.linear_model import LinearRegression, Ridge, Lasso\n",
    "from sklearn.tree import DecisionTreeRegressor\n",
    "from sklearn.ensemble import RandomForestRegressor, ExtraTreesRegressor\n",
    "from xgboost import XGBRegressor\n",
    "from scipy.stats import uniform, randint"
   ]
  },
  {
   "cell_type": "code",
   "execution_count": 73,
   "id": "15820ca8-78f0-4185-bba5-ff29e4437ad1",
   "metadata": {},
   "outputs": [],
   "source": [
    "df = encoding(df)"
   ]
  },
  {
   "cell_type": "code",
   "execution_count": 83,
   "id": "56ee7603-2f3e-4554-94bf-26c69febb183",
   "metadata": {},
   "outputs": [],
   "source": [
    "df.book_price = np.log(df.book_price)"
   ]
  },
  {
   "cell_type": "code",
   "execution_count": null,
   "id": "9c85d9c5-2d19-4905-8178-8a687a06f3f8",
   "metadata": {},
   "outputs": [],
   "source": []
  },
  {
   "cell_type": "code",
   "execution_count": 84,
   "id": "7d635fb9-7b6a-4c55-9818-f4a42aaf4f16",
   "metadata": {},
   "outputs": [],
   "source": [
    "X = df.drop(columns=['book_price'])\n",
    "y = df['book_price']\n",
    "\n",
    "X_train, X_test, y_train, y_test = train_test_split(X, y,\n",
    "                                                    test_size=0.3,\n",
    "                                                    random_state=0)"
   ]
  },
  {
   "cell_type": "code",
   "execution_count": 85,
   "id": "67c54057-2c00-4f51-8e94-9784d858215a",
   "metadata": {},
   "outputs": [
    {
     "name": "stdout",
     "output_type": "stream",
     "text": [
      "LinearRegression() Model Report\n",
      "CV Score: 0.2306159023962236\n",
      "The R2 Score: 0.10929166267124168\n",
      "\n"
     ]
    },
    {
     "data": {
      "image/png": "[encoded data removed]",
      "text/plain": [
       "<Figure size 640x480 with 1 Axes>"
      ]
     },
     "metadata": {},
     "output_type": "display_data"
    }
   ],
   "source": [
    "lr = LinearRegression()\n",
    "train(lr, X_train, y_train, X_test, y_test)\n",
    "coef_plot(lr.coef_, 'Linear Regression')"
   ]
  },
  {
   "cell_type": "code",
   "execution_count": 86,
   "id": "61fa67f3-431e-4ac5-8bb0-5cdf9d3b622c",
   "metadata": {},
   "outputs": [
    {
     "name": "stdout",
     "output_type": "stream",
     "text": [
      "DecisionTreeRegressor() Model Report\n",
      "CV Score: 0.35188649858359144\n",
      "The R2 Score: -0.5690737710796845\n",
      "\n"
     ]
    },
    {
     "data": {
      "image/png": "[encoded data removed]",
      "text/plain": [
       "<Figure size 640x480 with 1 Axes>"
      ]
     },
     "metadata": {},
     "output_type": "display_data"
    }
   ],
   "source": [
    "dtree = DecisionTreeRegressor()\n",
    "train(dtree, X_train, y_train, X_test, y_test)\n",
    "coef_plot(dtree.feature_importances_, 'Decision Tree Regressor')"
   ]
  },
  {
   "cell_type": "code",
   "execution_count": 81,
   "id": "ff5036aa-145a-4f32-8b4d-739a7f32b0bc",
   "metadata": {},
   "outputs": [
    {
     "name": "stdout",
     "output_type": "stream",
     "text": [
      "RandomForestRegressor() Model Report\n",
      "CV Score: 55.23033984374605\n",
      "The R2 Score: -0.8351474345035994\n",
      "\n"
     ]
    },
    {
     "data": {
      "image/png": "[encoded data removed]",
      "text/plain": [
       "<Figure size 640x480 with 1 Axes>"
      ]
     },
     "metadata": {},
     "output_type": "display_data"
    }
   ],
   "source": [
    "rand_forest = RandomForestRegressor()\n",
    "train(rand_forest, X_train, y_train, X_test, y_test)\n",
    "coef_plot(rand_forest.feature_importances_, 'Random Forest Regressor')"
   ]
  },
  {
   "cell_type": "code",
   "execution_count": null,
   "id": "185cedf5-af98-4115-aa65-7cce2a9ef70e",
   "metadata": {},
   "outputs": [],
   "source": []
  }
 ],
 "metadata": {
  "kernelspec": {
   "display_name": "Python 3 (ipykernel)",
   "language": "python",
   "name": "python3"
  },
  "language_info": {
   "codemirror_mode": {
    "name": "ipython",
    "version": 3
   },
   "file_extension": ".py",
   "mimetype": "text/x-python",
   "name": "python",
   "nbconvert_exporter": "python",
   "pygments_lexer": "ipython3",
   "version": "3.9.17"
  }
 },
 "nbformat": 4,
 "nbformat_minor": 5
}
